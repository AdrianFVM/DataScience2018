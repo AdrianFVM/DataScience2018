{
 "cells": [
  {
   "cell_type": "markdown",
   "metadata": {},
   "source": [
    "# class 6 Advanced Linear Regression"
   ]
  },
  {
   "cell_type": "markdown",
   "metadata": {},
   "source": [
    "- [6.1 Dummy Coding](#6.1-Dummy-Coding)\n",
    "    - [6.1.1 Tasks](#6.1.1-Tasks)\n",
    "    - [6.1.2 Interactions](#6.1.2-Interactions)\n",
    "- [6.2 Model Complexity](#6.2-Model-Complexity)\n",
    "    - [6.2.1 Overfitting](#6.2.1-Overfitting)\n",
    "    - [6.2.2 Train Test Split](#6.2.2-Train-Test-Split)\n",
    "    - [6.2.3 Tasks](#6.2.3-Tasks)\n",
    "- [6.3 Cross Validation](#6.3-Cross-Validation)\n",
    "    - [6.3.1 Tasks](#6.3.1-Tasks)\n"
   ]
  },
  {
   "cell_type": "code",
   "execution_count": 3,
   "metadata": {},
   "outputs": [
    {
     "name": "stderr",
     "output_type": "stream",
     "text": [
      "C:\\ProgramData\\Anaconda3\\lib\\site-packages\\statsmodels\\compat\\pandas.py:56: FutureWarning: The pandas.core.datetools module is deprecated and will be removed in a future version. Please use the pandas.tseries module instead.\n",
      "  from pandas.core import datetools\n"
     ]
    },
    {
     "data": {
      "text/plain": [
       "'%.3f'"
      ]
     },
     "execution_count": 3,
     "metadata": {},
     "output_type": "execute_result"
    }
   ],
   "source": [
    "# %load ../standard_import.txt\n",
    "import pandas as pd\n",
    "import numpy as np\n",
    "import matplotlib.pyplot as plt\n",
    "from mpl_toolkits.mplot3d import axes3d\n",
    "import seaborn as sns\n",
    "\n",
    "from sklearn.preprocessing import scale\n",
    "import sklearn.linear_model as skl_lm\n",
    "from sklearn.metrics import mean_squared_error, r2_score\n",
    "import statsmodels.api as sm\n",
    "import statsmodels.formula.api as smf\n",
    "\n",
    "%matplotlib inline\n",
    "plt.style.use('seaborn-white')\n",
    "\n",
    "%precision 3"
   ]
  },
  {
   "cell_type": "markdown",
   "metadata": {},
   "source": [
    "### 6.1 Dummy Coding"
   ]
  },
  {
   "cell_type": "code",
   "execution_count": 4,
   "metadata": {},
   "outputs": [
    {
     "data": {
      "text/html": [
       "<div>\n",
       "<style scoped>\n",
       "    .dataframe tbody tr th:only-of-type {\n",
       "        vertical-align: middle;\n",
       "    }\n",
       "\n",
       "    .dataframe tbody tr th {\n",
       "        vertical-align: top;\n",
       "    }\n",
       "\n",
       "    .dataframe thead th {\n",
       "        text-align: right;\n",
       "    }\n",
       "</style>\n",
       "<table border=\"1\" class=\"dataframe\">\n",
       "  <thead>\n",
       "    <tr style=\"text-align: right;\">\n",
       "      <th></th>\n",
       "      <th>survived</th>\n",
       "      <th>pclass</th>\n",
       "      <th>sex</th>\n",
       "      <th>age</th>\n",
       "      <th>sibsp</th>\n",
       "      <th>parch</th>\n",
       "      <th>fare</th>\n",
       "      <th>embarked</th>\n",
       "      <th>class</th>\n",
       "      <th>who</th>\n",
       "      <th>adult_male</th>\n",
       "      <th>deck</th>\n",
       "      <th>embark_town</th>\n",
       "      <th>alive</th>\n",
       "      <th>alone</th>\n",
       "    </tr>\n",
       "  </thead>\n",
       "  <tbody>\n",
       "    <tr>\n",
       "      <th>0</th>\n",
       "      <td>0</td>\n",
       "      <td>3</td>\n",
       "      <td>male</td>\n",
       "      <td>22.0</td>\n",
       "      <td>1</td>\n",
       "      <td>0</td>\n",
       "      <td>7.2500</td>\n",
       "      <td>S</td>\n",
       "      <td>Third</td>\n",
       "      <td>man</td>\n",
       "      <td>True</td>\n",
       "      <td>NaN</td>\n",
       "      <td>Southampton</td>\n",
       "      <td>no</td>\n",
       "      <td>False</td>\n",
       "    </tr>\n",
       "    <tr>\n",
       "      <th>1</th>\n",
       "      <td>1</td>\n",
       "      <td>1</td>\n",
       "      <td>female</td>\n",
       "      <td>38.0</td>\n",
       "      <td>1</td>\n",
       "      <td>0</td>\n",
       "      <td>71.2833</td>\n",
       "      <td>C</td>\n",
       "      <td>First</td>\n",
       "      <td>woman</td>\n",
       "      <td>False</td>\n",
       "      <td>C</td>\n",
       "      <td>Cherbourg</td>\n",
       "      <td>yes</td>\n",
       "      <td>False</td>\n",
       "    </tr>\n",
       "    <tr>\n",
       "      <th>2</th>\n",
       "      <td>1</td>\n",
       "      <td>3</td>\n",
       "      <td>female</td>\n",
       "      <td>26.0</td>\n",
       "      <td>0</td>\n",
       "      <td>0</td>\n",
       "      <td>7.9250</td>\n",
       "      <td>S</td>\n",
       "      <td>Third</td>\n",
       "      <td>woman</td>\n",
       "      <td>False</td>\n",
       "      <td>NaN</td>\n",
       "      <td>Southampton</td>\n",
       "      <td>yes</td>\n",
       "      <td>True</td>\n",
       "    </tr>\n",
       "    <tr>\n",
       "      <th>3</th>\n",
       "      <td>1</td>\n",
       "      <td>1</td>\n",
       "      <td>female</td>\n",
       "      <td>35.0</td>\n",
       "      <td>1</td>\n",
       "      <td>0</td>\n",
       "      <td>53.1000</td>\n",
       "      <td>S</td>\n",
       "      <td>First</td>\n",
       "      <td>woman</td>\n",
       "      <td>False</td>\n",
       "      <td>C</td>\n",
       "      <td>Southampton</td>\n",
       "      <td>yes</td>\n",
       "      <td>False</td>\n",
       "    </tr>\n",
       "    <tr>\n",
       "      <th>4</th>\n",
       "      <td>0</td>\n",
       "      <td>3</td>\n",
       "      <td>male</td>\n",
       "      <td>35.0</td>\n",
       "      <td>0</td>\n",
       "      <td>0</td>\n",
       "      <td>8.0500</td>\n",
       "      <td>S</td>\n",
       "      <td>Third</td>\n",
       "      <td>man</td>\n",
       "      <td>True</td>\n",
       "      <td>NaN</td>\n",
       "      <td>Southampton</td>\n",
       "      <td>no</td>\n",
       "      <td>True</td>\n",
       "    </tr>\n",
       "  </tbody>\n",
       "</table>\n",
       "</div>"
      ],
      "text/plain": [
       "   survived  pclass     sex   age  sibsp  parch     fare embarked  class  \\\n",
       "0         0       3    male  22.0      1      0   7.2500        S  Third   \n",
       "1         1       1  female  38.0      1      0  71.2833        C  First   \n",
       "2         1       3  female  26.0      0      0   7.9250        S  Third   \n",
       "3         1       1  female  35.0      1      0  53.1000        S  First   \n",
       "4         0       3    male  35.0      0      0   8.0500        S  Third   \n",
       "\n",
       "     who  adult_male deck  embark_town alive  alone  \n",
       "0    man        True  NaN  Southampton    no  False  \n",
       "1  woman       False    C    Cherbourg   yes  False  \n",
       "2  woman       False  NaN  Southampton   yes   True  \n",
       "3  woman       False    C  Southampton   yes  False  \n",
       "4    man        True  NaN  Southampton    no   True  "
      ]
     },
     "execution_count": 4,
     "metadata": {},
     "output_type": "execute_result"
    }
   ],
   "source": [
    "titanic = sns.load_dataset('titanic')\n",
    "titanic.head()"
   ]
  },
  {
   "cell_type": "code",
   "execution_count": 5,
   "metadata": {
    "scrolled": true
   },
   "outputs": [
    {
     "data": {
      "text/html": [
       "<table class=\"simpletable\">\n",
       "<tr>\n",
       "       <td></td>          <th>coef</th>     <th>std err</th>      <th>t</th>      <th>P>|t|</th>  <th>[0.025</th>    <th>0.975]</th>  \n",
       "</tr>\n",
       "<tr>\n",
       "  <th>Intercept</th>   <td>    1.3169</td> <td>    0.077</td> <td>   17.104</td> <td> 0.000</td> <td>    1.166</td> <td>    1.468</td>\n",
       "</tr>\n",
       "<tr>\n",
       "  <th>sex[T.male]</th> <td>   -0.4787</td> <td>    0.031</td> <td>  -15.518</td> <td> 0.000</td> <td>   -0.539</td> <td>   -0.418</td>\n",
       "</tr>\n",
       "<tr>\n",
       "  <th>age</th>         <td>   -0.0054</td> <td>    0.001</td> <td>   -4.975</td> <td> 0.000</td> <td>   -0.008</td> <td>   -0.003</td>\n",
       "</tr>\n",
       "<tr>\n",
       "  <th>pclass</th>      <td>   -0.2004</td> <td>    0.023</td> <td>   -8.907</td> <td> 0.000</td> <td>   -0.245</td> <td>   -0.156</td>\n",
       "</tr>\n",
       "<tr>\n",
       "  <th>fare</th>        <td> 6.801e-05</td> <td>    0.000</td> <td>    0.205</td> <td> 0.838</td> <td>   -0.001</td> <td>    0.001</td>\n",
       "</tr>\n",
       "</table>"
      ],
      "text/plain": [
       "<class 'statsmodels.iolib.table.SimpleTable'>"
      ]
     },
     "execution_count": 5,
     "metadata": {},
     "output_type": "execute_result"
    }
   ],
   "source": [
    "#no dummies\n",
    "est = smf.ols('survived ~ age + pclass + sex + fare', titanic).fit()\n",
    "est.summary().tables[1]"
   ]
  },
  {
   "cell_type": "markdown",
   "metadata": {},
   "source": [
    "#### 6.1.1 Tasks\n",
    "\n",
    "- Change Pclass to a factor/categorical variable\n",
    "- What is the fundamental difference between modeling Pclass as an integer or a factor?\n",
    "- Why seems one \"level\" always be missing? Learn/argue about *design/model matrices* and remember the discussion about multicollinearity from last week.\n",
    "- Drop *Pclass* from the model and compare the coeffients and std. errors for *Fare*."
   ]
  },
  {
   "cell_type": "code",
   "execution_count": 6,
   "metadata": {},
   "outputs": [
    {
     "data": {
      "text/html": [
       "<table class=\"simpletable\">\n",
       "<tr>\n",
       "         <td></td>           <th>coef</th>     <th>std err</th>      <th>t</th>      <th>P>|t|</th>  <th>[0.025</th>    <th>0.975]</th>  \n",
       "</tr>\n",
       "<tr>\n",
       "  <th>Intercept</th>      <td>    1.1183</td> <td>    0.064</td> <td>   17.550</td> <td> 0.000</td> <td>    0.993</td> <td>    1.243</td>\n",
       "</tr>\n",
       "<tr>\n",
       "  <th>C(pclass)[T.2]</th> <td>   -0.2035</td> <td>    0.048</td> <td>   -4.213</td> <td> 0.000</td> <td>   -0.298</td> <td>   -0.109</td>\n",
       "</tr>\n",
       "<tr>\n",
       "  <th>C(pclass)[T.3]</th> <td>   -0.4018</td> <td>    0.047</td> <td>   -8.525</td> <td> 0.000</td> <td>   -0.494</td> <td>   -0.309</td>\n",
       "</tr>\n",
       "<tr>\n",
       "  <th>C(sex)[T.male]</th> <td>   -0.4788</td> <td>    0.031</td> <td>  -15.471</td> <td> 0.000</td> <td>   -0.540</td> <td>   -0.418</td>\n",
       "</tr>\n",
       "<tr>\n",
       "  <th>age</th>            <td>   -0.0054</td> <td>    0.001</td> <td>   -4.958</td> <td> 0.000</td> <td>   -0.008</td> <td>   -0.003</td>\n",
       "</tr>\n",
       "<tr>\n",
       "  <th>fare</th>           <td> 6.052e-05</td> <td>    0.000</td> <td>    0.174</td> <td> 0.862</td> <td>   -0.001</td> <td>    0.001</td>\n",
       "</tr>\n",
       "</table>"
      ],
      "text/plain": [
       "<class 'statsmodels.iolib.table.SimpleTable'>"
      ]
     },
     "execution_count": 6,
     "metadata": {},
     "output_type": "execute_result"
    }
   ],
   "source": [
    "#yes dummies\n",
    "est = smf.ols('survived ~ age + C(pclass) + C(sex) + fare', titanic).fit()\n",
    "est.summary().tables[1]"
   ]
  },
  {
   "cell_type": "code",
   "execution_count": 7,
   "metadata": {
    "scrolled": true
   },
   "outputs": [
    {
     "data": {
      "text/html": [
       "<table class=\"simpletable\">\n",
       "<tr>\n",
       "         <td></td>           <th>coef</th>     <th>std err</th>      <th>t</th>      <th>P>|t|</th>  <th>[0.025</th>    <th>0.975]</th>  \n",
       "</tr>\n",
       "<tr>\n",
       "  <th>Intercept</th>      <td>    0.7203</td> <td>    0.040</td> <td>   18.002</td> <td> 0.000</td> <td>    0.642</td> <td>    0.799</td>\n",
       "</tr>\n",
       "<tr>\n",
       "  <th>C(sex)[T.male]</th> <td>   -0.5110</td> <td>    0.032</td> <td>  -15.831</td> <td> 0.000</td> <td>   -0.574</td> <td>   -0.448</td>\n",
       "</tr>\n",
       "<tr>\n",
       "  <th>age</th>            <td>   -0.0016</td> <td>    0.001</td> <td>   -1.530</td> <td> 0.127</td> <td>   -0.004</td> <td>    0.000</td>\n",
       "</tr>\n",
       "<tr>\n",
       "  <th>fare</th>           <td>    0.0017</td> <td>    0.000</td> <td>    5.688</td> <td> 0.000</td> <td>    0.001</td> <td>    0.002</td>\n",
       "</tr>\n",
       "</table>"
      ],
      "text/plain": [
       "<class 'statsmodels.iolib.table.SimpleTable'>"
      ]
     },
     "execution_count": 7,
     "metadata": {},
     "output_type": "execute_result"
    }
   ],
   "source": [
    "#drop pclass:\n",
    "#why did fare become significant and change its coefficient so much ?\n",
    "est = smf.ols('survived ~ age  + C(sex) + fare', titanic).fit()\n",
    "est.summary().tables[1]"
   ]
  },
  {
   "cell_type": "markdown",
   "metadata": {},
   "source": [
    "### 6.1.2 Interactions\n",
    "\n",
    "##### Factor-Factor"
   ]
  },
  {
   "cell_type": "code",
   "execution_count": 8,
   "metadata": {},
   "outputs": [
    {
     "data": {
      "text/html": [
       "<table class=\"simpletable\">\n",
       "<tr>\n",
       "               <td></td>                  <th>coef</th>     <th>std err</th>      <th>t</th>      <th>P>|t|</th>  <th>[0.025</th>    <th>0.975]</th>  \n",
       "</tr>\n",
       "<tr>\n",
       "  <th>Intercept</th>                   <td>    1.1613</td> <td>    0.055</td> <td>   21.277</td> <td> 0.000</td> <td>    1.054</td> <td>    1.268</td>\n",
       "</tr>\n",
       "<tr>\n",
       "  <th>C(pclass)[T.2]</th>              <td>   -0.0792</td> <td>    0.060</td> <td>   -1.325</td> <td> 0.186</td> <td>   -0.197</td> <td>    0.038</td>\n",
       "</tr>\n",
       "<tr>\n",
       "  <th>C(pclass)[T.3]</th>              <td>   -0.5770</td> <td>    0.057</td> <td>  -10.198</td> <td> 0.000</td> <td>   -0.688</td> <td>   -0.466</td>\n",
       "</tr>\n",
       "<tr>\n",
       "  <th>C(sex)[T.male]:C(pclass)[1]</th> <td>   -0.5308</td> <td>    0.055</td> <td>   -9.565</td> <td> 0.000</td> <td>   -0.640</td> <td>   -0.422</td>\n",
       "</tr>\n",
       "<tr>\n",
       "  <th>C(sex)[T.male]:C(pclass)[2]</th> <td>   -0.7559</td> <td>    0.058</td> <td>  -13.145</td> <td> 0.000</td> <td>   -0.869</td> <td>   -0.643</td>\n",
       "</tr>\n",
       "<tr>\n",
       "  <th>C(sex)[T.male]:C(pclass)[3]</th> <td>   -0.2836</td> <td>    0.044</td> <td>   -6.423</td> <td> 0.000</td> <td>   -0.370</td> <td>   -0.197</td>\n",
       "</tr>\n",
       "<tr>\n",
       "  <th>age</th>                         <td>   -0.0057</td> <td>    0.001</td> <td>   -5.383</td> <td> 0.000</td> <td>   -0.008</td> <td>   -0.004</td>\n",
       "</tr>\n",
       "</table>"
      ],
      "text/plain": [
       "<class 'statsmodels.iolib.table.SimpleTable'>"
      ]
     },
     "execution_count": 8,
     "metadata": {},
     "output_type": "execute_result"
    }
   ],
   "source": [
    "#interaction terms for factors:\n",
    "est = smf.ols('survived ~ age  + C(sex): C(pclass) ', titanic).fit()\n",
    "est.summary().tables[1]"
   ]
  },
  {
   "cell_type": "code",
   "execution_count": 9,
   "metadata": {
    "scrolled": true
   },
   "outputs": [
    {
     "data": {
      "text/html": [
       "<table class=\"simpletable\">\n",
       "<tr>\n",
       "           <td></td>             <th>coef</th>     <th>std err</th>      <th>t</th>      <th>P>|t|</th>  <th>[0.025</th>    <th>0.975]</th>  \n",
       "</tr>\n",
       "<tr>\n",
       "  <th>Intercept</th>          <td>    0.6558</td> <td>    0.057</td> <td>   11.583</td> <td> 0.000</td> <td>    0.545</td> <td>    0.767</td>\n",
       "</tr>\n",
       "<tr>\n",
       "  <th>C(sex)[T.male]</th>     <td>   -0.3492</td> <td>    0.072</td> <td>   -4.831</td> <td> 0.000</td> <td>   -0.491</td> <td>   -0.207</td>\n",
       "</tr>\n",
       "<tr>\n",
       "  <th>C(sex)[female]:age</th> <td>    0.0035</td> <td>    0.002</td> <td>    1.959</td> <td> 0.051</td> <td>-8.14e-06</td> <td>    0.007</td>\n",
       "</tr>\n",
       "<tr>\n",
       "  <th>C(sex)[male]:age</th>   <td>   -0.0033</td> <td>    0.001</td> <td>   -2.496</td> <td> 0.013</td> <td>   -0.006</td> <td>   -0.001</td>\n",
       "</tr>\n",
       "</table>"
      ],
      "text/plain": [
       "<class 'statsmodels.iolib.table.SimpleTable'>"
      ]
     },
     "execution_count": 9,
     "metadata": {},
     "output_type": "execute_result"
    }
   ],
   "source": [
    "#interaction terms for factors with metric variables:\n",
    "est = smf.ols('survived ~ C(sex): age +C(sex)  ', titanic).fit()\n",
    "est.summary().tables[1]"
   ]
  },
  {
   "cell_type": "markdown",
   "metadata": {},
   "source": [
    "##### Interactions between qualitative and quantitative variables\n",
    "\n",
    "Consider the Credit data set, and suppose that we wish to\n",
    "predict balance using income (quantitative) and student\n",
    "(qualitative).\n",
    "Without an interaction term, the model takes the form\n",
    "$$ balance_i = \\beta_0 + \\beta_1 \\cdot income_i +\n",
    "\\begin{cases}\n",
    "    \\beta_2 ,\\hspace{1cm} \\text{if ith person is a student} \\\\\n",
    "    0 ,\\hspace{1.1cm} \\text{    if ith person is not a student}\n",
    "\\end{cases}\n",
    "$$\n",
    "\n",
    "With interactions, it takes the form\n",
    "$$ balance_i = \n",
    "\\begin{cases}\n",
    "    (\\beta_0 + \\beta_2) + (\\beta_1 + \\beta_3) \\cdot income_i   ,\\hspace{0.6cm} \\text{if student} \\\\\n",
    "    \\beta_0 + \\beta_1 \\cdot income_i ,\\hspace{3cm} \\text{    if not student}\n",
    "\\end{cases}\n",
    "$$"
   ]
  },
  {
   "cell_type": "code",
   "execution_count": 10,
   "metadata": {
    "scrolled": true
   },
   "outputs": [
    {
     "name": "stdout",
     "output_type": "stream",
     "text": [
      "Regression 1 - without interaction term\n",
      "Intercept    211.142964\n",
      "Income         5.984336\n",
      "Student2     382.670539\n",
      "dtype: float64\n",
      "\n",
      "Regression 2 - with interaction term\n",
      "Intercept          200.623153\n",
      "Income               6.218169\n",
      "Student2           476.675843\n",
      "Income:Student2     -1.999151\n",
      "dtype: float64\n"
     ]
    }
   ],
   "source": [
    "credit = pd.read_csv('../data/Credit.csv', usecols=list(range(1,12)))\n",
    "credit['Student2'] = credit.Student.map({'No':0, 'Yes':1})\n",
    "\n",
    "est1 = smf.ols('Balance ~ Income + Student2', credit).fit()\n",
    "regr1 = est1.params\n",
    "est2 = smf.ols('Balance ~ Income + Income*Student2', credit).fit()\n",
    "regr2 = est2.params\n",
    "\n",
    "print('Regression 1 - without interaction term')\n",
    "#print(est1.summary().tables[1])\n",
    "print(regr1)\n",
    "print('\\nRegression 2 - with interaction term')\n",
    "#print(est2.summary().tables[1])\n",
    "print(regr2)"
   ]
  },
  {
   "cell_type": "markdown",
   "metadata": {},
   "source": [
    "#### Figure 3.7 (ISLR)"
   ]
  },
  {
   "cell_type": "code",
   "execution_count": 11,
   "metadata": {},
   "outputs": [
    {
     "data": {
      "image/png": "[encoded data removed]",
      "text/plain": [
       "<matplotlib.figure.Figure at 0x1dddb96c860>"
      ]
     },
     "metadata": {},
     "output_type": "display_data"
    }
   ],
   "source": [
    "# Income (x-axis)\n",
    "income = np.linspace(0,150)\n",
    "\n",
    "# Balance without interaction term (y-axis)\n",
    "student1 = np.linspace(regr1['Intercept']+regr1['Student2'],\n",
    "                       regr1['Intercept']+regr1['Student2']+150*regr1['Income'])\n",
    "non_student1 =  np.linspace(regr1['Intercept'], regr1['Intercept']+150*regr1['Income'])\n",
    "\n",
    "# Balance with iteraction term (y-axis)\n",
    "student2 = np.linspace(regr2['Intercept']+regr2['Student2'],\n",
    "                       regr2['Intercept']+regr2['Student2']+\n",
    "                       150*(regr2['Income']+regr2['Income:Student2']))\n",
    "non_student2 =  np.linspace(regr2['Intercept'], regr2['Intercept']+150*regr2['Income'])\n",
    "\n",
    "# Create plot\n",
    "fig, (ax1,ax2) = plt.subplots(1,2, figsize=(12,5))\n",
    "ax1.plot(income, student1, 'r', income, non_student1, 'k')\n",
    "ax2.plot(income, student2, 'r', income, non_student2, 'k')\n",
    "\n",
    "for ax in fig.axes:\n",
    "    ax.legend(['student', 'non-student'], loc=2)\n",
    "    ax.set_xlabel('Income')\n",
    "    ax.set_ylabel('Balance')\n",
    "    ax.set_ylim(ymax=1550)\n",
    "    \n",
    "#General question: the figures all look like blurry png's, \n",
    "#no way to get high quality vector graphics?"
   ]
  },
  {
   "cell_type": "markdown",
   "metadata": {},
   "source": [
    "-------------------------------------------------------------\n",
    "### 6.2 Model Complexity\n",
    "\n",
    "Compare the following models:"
   ]
  },
  {
   "cell_type": "code",
   "execution_count": 12,
   "metadata": {},
   "outputs": [
    {
     "name": "stdout",
     "output_type": "stream",
     "text": [
      "$R^2=$0.612\n",
      "$R^2=$0.619\n",
      "$R^2=$0.622\n",
      "$R^2=$0.623\n"
     ]
    }
   ],
   "source": [
    "advertising = pd.read_csv('../data/Advertising.csv', usecols=[1,2,3,4])\n",
    "np.set_printoptions(3)\n",
    "\n",
    "est1 = smf.ols('Sales ~ TV', advertising).fit()\n",
    "print(r'$R^2=${:1.3f}'.format(est1.rsquared))\n",
    "\n",
    "advertising[\"TV2\"] = advertising.TV**2\n",
    "est2 = smf.ols('Sales ~ TV + TV2', advertising).fit()\n",
    "print(r'$R^2=${:1.3f}'.format(est2.rsquared))\n",
    "\n",
    "advertising[\"TV3\"] = advertising.TV**3\n",
    "est3 = smf.ols('Sales ~ TV + TV2 + TV3', advertising).fit()\n",
    "print(r'$R^2=${:1.3f}'.format(est3.rsquared))\n",
    "\n",
    "advertising[\"TV4\"] = advertising.TV**4\n",
    "est3 = smf.ols('Sales ~ TV + TV2 + TV3 + TV4', advertising).fit()\n",
    "print(r'$R^2=${:1.3f}'.format(est3.rsquared))"
   ]
  },
  {
   "cell_type": "markdown",
   "metadata": {},
   "source": [
    "### 6.2.1 Overfitting\n",
    "\n",
    "Can we \"play this game\" indefinitely?\n",
    "Check graphically:"
   ]
  },
  {
   "cell_type": "code",
   "execution_count": 13,
   "metadata": {},
   "outputs": [],
   "source": [
    "#sns.regplot('TV', 'Sales', data=advertising,fit_reg=True, order=10)\n",
    "fit = np.polyfit(advertising.TV, advertising.Sales,2)"
   ]
  },
  {
   "cell_type": "code",
   "execution_count": 14,
   "metadata": {
    "scrolled": true
   },
   "outputs": [
    {
     "data": {
      "text/plain": [
       "[<matplotlib.lines.Line2D at 0x1dddc709b00>]"
      ]
     },
     "execution_count": 14,
     "metadata": {},
     "output_type": "execute_result"
    },
    {
     "data": {
      "image/png": "[encoded data removed]",
      "text/plain": [
       "<matplotlib.figure.Figure at 0x1dddb946780>"
      ]
     },
     "metadata": {},
     "output_type": "display_data"
    }
   ],
   "source": [
    "from numpy.polynomial import Polynomial\n",
    "plt.plot(advertising.TV, advertising.Sales, \"o\")\n",
    "p = Polynomial.fit(advertising.TV, advertising.Sales, 25)\n",
    "plt.plot(*p.linspace())\n"
   ]
  },
  {
   "cell_type": "markdown",
   "metadata": {},
   "source": [
    "How do we quantify the notion of **overfitting**, i.e. the (obvious?) impression that the model is \"too wiggly\", or **too complex** ?\n",
    "\n",
    "The $R^2$ on the data we used to fit the model is useless for this purpose because it seems to only improve the more complex the model becomes!\n",
    "\n",
    "One useful idea seems the following: if the orange line does not really capture the \"true model\", i.e. has adapted too much to the noise, its performance on a test set would be worse than a simpler model.\n",
    "\n",
    "![p.81](figures/ISLR-Fig2.10.png)\n",
    "\n",
    "Let us examine this idea by using a\n",
    "\n",
    "### 6.2.2 Train Test Split"
   ]
  },
  {
   "cell_type": "code",
   "execution_count": 15,
   "metadata": {},
   "outputs": [],
   "source": [
    "from sklearn.metrics import mean_squared_error\n",
    "from sklearn.model_selection import train_test_split\n",
    "from sklearn.linear_model import LinearRegression\n",
    "\n",
    "X = advertising.drop([\"Sales\", \"Radio\", \"Newspaper\", \"TV3\", \"TV4\"], axis=1).values\n",
    "y = advertising.Sales\n",
    "# Create training and test sets\n",
    "X_train, X_test, y_train, y_test = train_test_split(X, y, test_size = 0.3, random_state=42)\n",
    "\n"
   ]
  },
  {
   "cell_type": "markdown",
   "metadata": {},
   "source": [
    "#### 6.2.3 Tasks\n",
    "\n",
    "1. Compare the $R^2$ and *rmse* for the quadratic and quartic models on the test data\n",
    "2. Boston housing data\n",
    "    * Compute the $R^2$ for the test portion \n",
    "    * Compare with the adjusted $R^2$.\n",
    "    * Think about the model complexity parameter in OLS. \n",
    "    * How would one choose which variables should be part of the model?\n"
   ]
  },
  {
   "cell_type": "code",
   "execution_count": 16,
   "metadata": {},
   "outputs": [
    {
     "name": "stdout",
     "output_type": "stream",
     "text": [
      "R^2: 0.6551656885746866\n",
      "Root Mean Squared Error: 3.0684793975783626\n"
     ]
    }
   ],
   "source": [
    "reg = LinearRegression()\n",
    "\n",
    "# Fit the regressor to the training data\n",
    "reg.fit(X_train, y_train)\n",
    "\n",
    "# Predict on the test data: y_pred\n",
    "y_pred = reg.predict(X_test)\n",
    "\n",
    "# Compute and print R^2 and RMSE\n",
    "print(\"R^2: {}\".format(reg.score(X_test, y_test)))\n",
    "\n",
    "rmse = np.sqrt(mean_squared_error(y_test, y_pred))\n",
    "print(\"Root Mean Squared Error: {}\".format(rmse))\n",
    "\n"
   ]
  },
  {
   "cell_type": "code",
   "execution_count": 17,
   "metadata": {},
   "outputs": [
    {
     "data": {
      "text/plain": [
       "0.386"
      ]
     },
     "execution_count": 17,
     "metadata": {},
     "output_type": "execute_result"
    },
    {
     "data": {
      "image/png": "[encoded data removed]",
      "text/plain": [
       "<matplotlib.figure.Figure at 0x1dddc8c4be0>"
      ]
     },
     "metadata": {},
     "output_type": "display_data"
    }
   ],
   "source": [
    "#cannot get the following to work\n",
    "p,stats = Polynomial.fit(advertising.TV, advertising.Sales, 25, full=True)\n",
    "\n",
    "from sklearn.preprocessing import PolynomialFeatures\n",
    "poly = PolynomialFeatures(degree=25)\n",
    "X = poly.fit_transform(advertising.TV.values.reshape(-1, 1))\n",
    "regr = skl_lm.LinearRegression().fit(X, advertising.Sales)\n",
    "yHat = regr.intercept_+ np.dot(X,regr.coef_)\n",
    "plt.plot(advertising.TV, advertising.Sales, \"o\")\n",
    "plt.plot(advertising.TV, yHat, \"x\")\n",
    "#\n",
    "np.corrcoef(yHat, advertising.Sales)[0,1]**2\n"
   ]
  },
  {
   "cell_type": "markdown",
   "metadata": {},
   "source": [
    "##### Boston Housing Data"
   ]
  },
  {
   "cell_type": "code",
   "execution_count": 18,
   "metadata": {
    "scrolled": true
   },
   "outputs": [
    {
     "name": "stdout",
     "output_type": "stream",
     "text": [
      "      crim    zn  indus  chas    nox     rm   age     dis  rad  tax  ptratio  \\\n",
      "0  0.00632  18.0   2.31     0  0.538  6.575  65.2  4.0900    1  296     15.3   \n",
      "1  0.02731   0.0   7.07     0  0.469  6.421  78.9  4.9671    2  242     17.8   \n",
      "2  0.02729   0.0   7.07     0  0.469  7.185  61.1  4.9671    2  242     17.8   \n",
      "3  0.03237   0.0   2.18     0  0.458  6.998  45.8  6.0622    3  222     18.7   \n",
      "4  0.06905   0.0   2.18     0  0.458  7.147  54.2  6.0622    3  222     18.7   \n",
      "\n",
      "    black  lstat  medv  \n",
      "0  396.90   4.98  24.0  \n",
      "1  396.90   9.14  21.6  \n",
      "2  392.83   4.03  34.7  \n",
      "3  394.63   2.94  33.4  \n",
      "4  396.90   5.33  36.2  \n"
     ]
    }
   ],
   "source": [
    "boston = pd.read_csv('../data/boston.csv')\n",
    "print(boston.head())\n",
    "X = boston.drop('medv', axis=1).values\n",
    "y = boston['medv'].values"
   ]
  },
  {
   "cell_type": "code",
   "execution_count": 19,
   "metadata": {},
   "outputs": [
    {
     "data": {
      "text/plain": [
       "Index(['crim', 'zn', 'indus', 'chas', 'nox', 'rm', 'age', 'dis', 'rad', 'tax',\n",
       "       'ptratio', 'black', 'lstat', 'medv'],\n",
       "      dtype='object')"
      ]
     },
     "execution_count": 19,
     "metadata": {},
     "output_type": "execute_result"
    }
   ],
   "source": [
    "boston.columns"
   ]
  },
  {
   "cell_type": "code",
   "execution_count": 20,
   "metadata": {},
   "outputs": [
    {
     "data": {
      "text/html": [
       "<table class=\"simpletable\">\n",
       "<caption>OLS Regression Results</caption>\n",
       "<tr>\n",
       "  <th>Dep. Variable:</th>          <td>medv</td>       <th>  R-squared:         </th> <td>   0.741</td> \n",
       "</tr>\n",
       "<tr>\n",
       "  <th>Model:</th>                   <td>OLS</td>       <th>  Adj. R-squared:    </th> <td>   0.734</td> \n",
       "</tr>\n",
       "<tr>\n",
       "  <th>Method:</th>             <td>Least Squares</td>  <th>  F-statistic:       </th> <td>   108.1</td> \n",
       "</tr>\n",
       "<tr>\n",
       "  <th>Date:</th>             <td>Wed, 21 Nov 2018</td> <th>  Prob (F-statistic):</th> <td>6.72e-135</td>\n",
       "</tr>\n",
       "<tr>\n",
       "  <th>Time:</th>                 <td>14:54:40</td>     <th>  Log-Likelihood:    </th> <td> -1498.8</td> \n",
       "</tr>\n",
       "<tr>\n",
       "  <th>No. Observations:</th>      <td>   506</td>      <th>  AIC:               </th> <td>   3026.</td> \n",
       "</tr>\n",
       "<tr>\n",
       "  <th>Df Residuals:</th>          <td>   492</td>      <th>  BIC:               </th> <td>   3085.</td> \n",
       "</tr>\n",
       "<tr>\n",
       "  <th>Df Model:</th>              <td>    13</td>      <th>                     </th>     <td> </td>    \n",
       "</tr>\n",
       "<tr>\n",
       "  <th>Covariance Type:</th>      <td>nonrobust</td>    <th>                     </th>     <td> </td>    \n",
       "</tr>\n",
       "</table>\n",
       "<table class=\"simpletable\">\n",
       "<tr>\n",
       "      <td></td>         <th>coef</th>     <th>std err</th>      <th>t</th>      <th>P>|t|</th>  <th>[0.025</th>    <th>0.975]</th>  \n",
       "</tr>\n",
       "<tr>\n",
       "  <th>Intercept</th> <td>   36.4595</td> <td>    5.103</td> <td>    7.144</td> <td> 0.000</td> <td>   26.432</td> <td>   46.487</td>\n",
       "</tr>\n",
       "<tr>\n",
       "  <th>crim</th>      <td>   -0.1080</td> <td>    0.033</td> <td>   -3.287</td> <td> 0.001</td> <td>   -0.173</td> <td>   -0.043</td>\n",
       "</tr>\n",
       "<tr>\n",
       "  <th>zn</th>        <td>    0.0464</td> <td>    0.014</td> <td>    3.382</td> <td> 0.001</td> <td>    0.019</td> <td>    0.073</td>\n",
       "</tr>\n",
       "<tr>\n",
       "  <th>indus</th>     <td>    0.0206</td> <td>    0.061</td> <td>    0.334</td> <td> 0.738</td> <td>   -0.100</td> <td>    0.141</td>\n",
       "</tr>\n",
       "<tr>\n",
       "  <th>chas</th>      <td>    2.6867</td> <td>    0.862</td> <td>    3.118</td> <td> 0.002</td> <td>    0.994</td> <td>    4.380</td>\n",
       "</tr>\n",
       "<tr>\n",
       "  <th>nox</th>       <td>  -17.7666</td> <td>    3.820</td> <td>   -4.651</td> <td> 0.000</td> <td>  -25.272</td> <td>  -10.262</td>\n",
       "</tr>\n",
       "<tr>\n",
       "  <th>rm</th>        <td>    3.8099</td> <td>    0.418</td> <td>    9.116</td> <td> 0.000</td> <td>    2.989</td> <td>    4.631</td>\n",
       "</tr>\n",
       "<tr>\n",
       "  <th>age</th>       <td>    0.0007</td> <td>    0.013</td> <td>    0.052</td> <td> 0.958</td> <td>   -0.025</td> <td>    0.027</td>\n",
       "</tr>\n",
       "<tr>\n",
       "  <th>dis</th>       <td>   -1.4756</td> <td>    0.199</td> <td>   -7.398</td> <td> 0.000</td> <td>   -1.867</td> <td>   -1.084</td>\n",
       "</tr>\n",
       "<tr>\n",
       "  <th>rad</th>       <td>    0.3060</td> <td>    0.066</td> <td>    4.613</td> <td> 0.000</td> <td>    0.176</td> <td>    0.436</td>\n",
       "</tr>\n",
       "<tr>\n",
       "  <th>tax</th>       <td>   -0.0123</td> <td>    0.004</td> <td>   -3.280</td> <td> 0.001</td> <td>   -0.020</td> <td>   -0.005</td>\n",
       "</tr>\n",
       "<tr>\n",
       "  <th>ptratio</th>   <td>   -0.9527</td> <td>    0.131</td> <td>   -7.283</td> <td> 0.000</td> <td>   -1.210</td> <td>   -0.696</td>\n",
       "</tr>\n",
       "<tr>\n",
       "  <th>black</th>     <td>    0.0093</td> <td>    0.003</td> <td>    3.467</td> <td> 0.001</td> <td>    0.004</td> <td>    0.015</td>\n",
       "</tr>\n",
       "<tr>\n",
       "  <th>lstat</th>     <td>   -0.5248</td> <td>    0.051</td> <td>  -10.347</td> <td> 0.000</td> <td>   -0.624</td> <td>   -0.425</td>\n",
       "</tr>\n",
       "</table>\n",
       "<table class=\"simpletable\">\n",
       "<tr>\n",
       "  <th>Omnibus:</th>       <td>178.041</td> <th>  Durbin-Watson:     </th> <td>   1.078</td> \n",
       "</tr>\n",
       "<tr>\n",
       "  <th>Prob(Omnibus):</th> <td> 0.000</td>  <th>  Jarque-Bera (JB):  </th> <td> 783.126</td> \n",
       "</tr>\n",
       "<tr>\n",
       "  <th>Skew:</th>          <td> 1.521</td>  <th>  Prob(JB):          </th> <td>8.84e-171</td>\n",
       "</tr>\n",
       "<tr>\n",
       "  <th>Kurtosis:</th>      <td> 8.281</td>  <th>  Cond. No.          </th> <td>1.51e+04</td> \n",
       "</tr>\n",
       "</table>"
      ],
      "text/plain": [
       "<class 'statsmodels.iolib.summary.Summary'>\n",
       "\"\"\"\n",
       "                            OLS Regression Results                            \n",
       "==============================================================================\n",
       "Dep. Variable:                   medv   R-squared:                       0.741\n",
       "Model:                            OLS   Adj. R-squared:                  0.734\n",
       "Method:                 Least Squares   F-statistic:                     108.1\n",
       "Date:                Wed, 21 Nov 2018   Prob (F-statistic):          6.72e-135\n",
       "Time:                        14:54:40   Log-Likelihood:                -1498.8\n",
       "No. Observations:                 506   AIC:                             3026.\n",
       "Df Residuals:                     492   BIC:                             3085.\n",
       "Df Model:                          13                                         \n",
       "Covariance Type:            nonrobust                                         \n",
       "==============================================================================\n",
       "                 coef    std err          t      P>|t|      [0.025      0.975]\n",
       "------------------------------------------------------------------------------\n",
       "Intercept     36.4595      5.103      7.144      0.000      26.432      46.487\n",
       "crim          -0.1080      0.033     -3.287      0.001      -0.173      -0.043\n",
       "zn             0.0464      0.014      3.382      0.001       0.019       0.073\n",
       "indus          0.0206      0.061      0.334      0.738      -0.100       0.141\n",
       "chas           2.6867      0.862      3.118      0.002       0.994       4.380\n",
       "nox          -17.7666      3.820     -4.651      0.000     -25.272     -10.262\n",
       "rm             3.8099      0.418      9.116      0.000       2.989       4.631\n",
       "age            0.0007      0.013      0.052      0.958      -0.025       0.027\n",
       "dis           -1.4756      0.199     -7.398      0.000      -1.867      -1.084\n",
       "rad            0.3060      0.066      4.613      0.000       0.176       0.436\n",
       "tax           -0.0123      0.004     -3.280      0.001      -0.020      -0.005\n",
       "ptratio       -0.9527      0.131     -7.283      0.000      -1.210      -0.696\n",
       "black          0.0093      0.003      3.467      0.001       0.004       0.015\n",
       "lstat         -0.5248      0.051    -10.347      0.000      -0.624      -0.425\n",
       "==============================================================================\n",
       "Omnibus:                      178.041   Durbin-Watson:                   1.078\n",
       "Prob(Omnibus):                  0.000   Jarque-Bera (JB):              783.126\n",
       "Skew:                           1.521   Prob(JB):                    8.84e-171\n",
       "Kurtosis:                       8.281   Cond. No.                     1.51e+04\n",
       "==============================================================================\n",
       "\n",
       "Warnings:\n",
       "[1] Standard Errors assume that the covariance matrix of the errors is correctly specified.\n",
       "[2] The condition number is large, 1.51e+04. This might indicate that there are\n",
       "strong multicollinearity or other numerical problems.\n",
       "\"\"\""
      ]
     },
     "execution_count": 20,
     "metadata": {},
     "output_type": "execute_result"
    }
   ],
   "source": [
    "#I wished I could use the short formula mdev ~ .\n",
    "est = smf.ols('medv ~ crim+zn+indus+chas+nox+rm+age+dis+rad+tax+ptratio+black+lstat', boston).fit()\n",
    "est.summary()#.tables[1]"
   ]
  },
  {
   "cell_type": "markdown",
   "metadata": {},
   "source": []
  },
  {
   "cell_type": "code",
   "execution_count": 21,
   "metadata": {},
   "outputs": [
    {
     "name": "stdout",
     "output_type": "stream",
     "text": [
      "R^2: 0.711226005748498\n",
      "Root Mean Squared Error: 4.638689926172782\n"
     ]
    }
   ],
   "source": [
    "from sklearn.metrics import mean_squared_error\n",
    "from sklearn.model_selection import train_test_split\n",
    "from sklearn.linear_model import LinearRegression\n",
    "\n",
    "# Create training and test sets\n",
    "X_train, X_test, y_train, y_test = train_test_split(X, y, test_size = 0.3, random_state=42)\n",
    "\n",
    "# Create the regressor: reg_all\n",
    "reg_all = LinearRegression()\n",
    "\n",
    "# Fit the regressor to the training data\n",
    "reg_all.fit(X_train, y_train)\n",
    "\n",
    "# Predict on the test data: y_pred\n",
    "y_pred = reg_all.predict(X_test)\n",
    "\n",
    "# Compute and print R^2 and RMSE\n",
    "print(\"R^2: {}\".format(reg_all.score(X_test, y_test)))\n",
    "rmse = np.sqrt(mean_squared_error(y_test, y_pred))\n",
    "print(\"Root Mean Squared Error: {}\".format(rmse))\n"
   ]
  },
  {
   "cell_type": "markdown",
   "metadata": {},
   "source": [
    "![p.81](figures/ISLR-cvboot-Fig1.png)"
   ]
  },
  {
   "cell_type": "markdown",
   "metadata": {},
   "source": [
    "### 6.3 Cross Validation\n",
    "\n",
    "##### Drawbacks of validation set approach\n",
    "\n",
    "- The validation estimate of the test error can be highly variable, depending on precisely which observations are included in the training/validation set.\n",
    "- In the validation approach, only a subset of the observations - those that are included in the training set rather than in the validation set - are used to fit the model.\n",
    "- This suggests that the validation set error may tend to **overestimate the test error** for the model fit on the entire data set.\n",
    "\n",
    "##### K-fold Cross-validation\n",
    "\n",
    "- randomly divide the data into K equal-sized parts. We leave out part k, fit the model to the other K-1 parts (combined), and then obtain predictions for the left-out kth part.\n",
    "- This is done in turn for each part $k = 1,2, \\ldots, K$, and then the results are combined.\n",
    "\n"
   ]
  },
  {
   "cell_type": "code",
   "execution_count": 24,
   "metadata": {},
   "outputs": [
    {
     "name": "stdout",
     "output_type": "stream",
     "text": [
      "[ 0.734  0.473 -1.006  0.641  0.548  0.736  0.378 -0.129 -0.768  0.419]\n"
     ]
    },
    {
     "data": {
      "text/plain": [
       "(0.203, 0.354)"
      ]
     },
     "execution_count": 24,
     "metadata": {},
     "output_type": "execute_result"
    }
   ],
   "source": [
    "from sklearn.model_selection import cross_val_score\n",
    "\n",
    "reg_all = LinearRegression()\n",
    "\n",
    "cv_results = cross_val_score(reg_all, X, y, cv=10)\n",
    "print(cv_results)\n",
    "#[ 0.63919994 0.71386698 0.58702344 0.07923081 -0.25294154]\n",
    "np.mean(cv_results), np.var(cv_results)"
   ]
  },
  {
   "cell_type": "markdown",
   "metadata": {},
   "source": [
    "#### Comments\n",
    "\n",
    "- For non-equal fold sizes, we need to compute the weighted mean!\n",
    "- Setting $K = n$ yields n-fold or **leave-one out cross-validation** (LOOCV).\n",
    "- With least-squares linear or polynomial regression, an amazing shortcut makes the cost of LOOCV the same as that of a single model fit! The following formula holds:\n",
    "$$\n",
    "CV_n = \\frac{1}{n} \\sum{\\left( \\frac{y_i - \\hat{y}_i}{1-h_i} \\right)^2}\n",
    "$$\n",
    "where $\\hat{y}_i$ is the ith fitted value from the original least\n",
    "squares fit, and $h_i$ is the leverage (see ISLR book for details.) This is like the ordinary MSE, except the ith residual is divided by $1-h_i$.\n",
    "\n",
    "\n",
    "#### 6.3.1 Tasks\n",
    "\n",
    "- Sketch the code for your own CV function.\n",
    "- Reproduce the left panel of Fig. 5.6, i.e. the right panel of Fig 2.9 from the ISLR book\n",
    "\n",
    "\n",
    "![p.81](figures/ISLR-Fig2.9.png)"
   ]
  },
  {
   "cell_type": "markdown",
   "metadata": {},
   "source": []
  }
 ],
 "metadata": {
  "kernelspec": {
   "display_name": "Python 3",
   "language": "python",
   "name": "python3"
  },
  "language_info": {
   "codemirror_mode": {
    "name": "ipython",
    "version": 3
   },
   "file_extension": ".py",
   "mimetype": "text/x-python",
   "name": "python",
   "nbconvert_exporter": "python",
   "pygments_lexer": "ipython3",
   "version": "3.6.4"
  }
 },
 "nbformat": 4,
 "nbformat_minor": 1
}
