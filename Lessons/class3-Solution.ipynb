{
 "cells": [
  {
   "cell_type": "markdown",
   "metadata": {},
   "source": [
    "### Class 3\n",
    "\n",
    "1. Hypothesis Tests\n",
    "    * 1-sample\n",
    "    * 2-sample\n",
    "2. Permutation Tests\n"
   ]
  },
  {
   "cell_type": "code",
   "execution_count": 3,
   "metadata": {
    "scrolled": false
   },
   "outputs": [
    {
     "data": {
      "text/plain": [
       "29.28"
      ]
     },
     "execution_count": 3,
     "metadata": {},
     "output_type": "execute_result"
    }
   ],
   "source": [
    "%run ./ourFunctions.py\n",
    "%precision 2\n",
    "cars = pd.read_csv('../data/Auto.csv')\n",
    "np.mean(cars[cars[\"cylinders\"]==4].mpg)"
   ]
  },
  {
   "cell_type": "markdown",
   "metadata": {},
   "source": [
    "### One-sample Test\n",
    "\n",
    "We have learned about the **bootstrap** as a slick way of resampling your data to obtain sampling distributions of various measures of interest, \n",
    "Without having to learn highly specific distributions (such as the $\\chi^2$, Poisson, Binomial or F-distribution) the bootstrap enables us to \n",
    "\n",
    "\n",
    "1. get **confidence intervals**\n",
    "2. perform **one-sample tests**\n",
    "3. perform **two-sample tests**\n",
    "\n",
    "Imagine the EPA requiring the average mpg for 4-cylinder cars to be at least $30$ and needs to decide -based on this sample only- whether the manufacturers need to implement some improvements.\n",
    "In statistical jargon: can the EPA **reject the claim** that the **true mean** is at least 30 ?\n",
    "\n",
    "\n",
    "**Tasks**\n",
    "- Test $H_0: \\mu \\geq 30, H_A: \\mu < 30$ for the mean mpg of 4-cylinder cars\n",
    "    * using bootstrap replicates\n",
    "    * via standard testing theory.\n",
    "- Compute the corresponding **p-values**."
   ]
  },
  {
   "cell_type": "code",
   "execution_count": 4,
   "metadata": {},
   "outputs": [
    {
     "data": {
      "text/html": [
       "<div>\n",
       "<style scoped>\n",
       "    .dataframe tbody tr th:only-of-type {\n",
       "        vertical-align: middle;\n",
       "    }\n",
       "\n",
       "    .dataframe tbody tr th {\n",
       "        vertical-align: top;\n",
       "    }\n",
       "\n",
       "    .dataframe thead th {\n",
       "        text-align: right;\n",
       "    }\n",
       "</style>\n",
       "<table border=\"1\" class=\"dataframe\">\n",
       "  <thead>\n",
       "    <tr style=\"text-align: right;\">\n",
       "      <th></th>\n",
       "      <th>Unnamed: 0</th>\n",
       "      <th>gender</th>\n",
       "      <th>dbirwt</th>\n",
       "    </tr>\n",
       "  </thead>\n",
       "  <tbody>\n",
       "    <tr>\n",
       "      <th>0</th>\n",
       "      <td>1</td>\n",
       "      <td>male</td>\n",
       "      <td>2551</td>\n",
       "    </tr>\n",
       "    <tr>\n",
       "      <th>1</th>\n",
       "      <td>2</td>\n",
       "      <td>male</td>\n",
       "      <td>2778</td>\n",
       "    </tr>\n",
       "    <tr>\n",
       "      <th>2</th>\n",
       "      <td>3</td>\n",
       "      <td>female</td>\n",
       "      <td>2976</td>\n",
       "    </tr>\n",
       "    <tr>\n",
       "      <th>3</th>\n",
       "      <td>4</td>\n",
       "      <td>female</td>\n",
       "      <td>3345</td>\n",
       "    </tr>\n",
       "    <tr>\n",
       "      <th>4</th>\n",
       "      <td>5</td>\n",
       "      <td>female</td>\n",
       "      <td>3175</td>\n",
       "    </tr>\n",
       "  </tbody>\n",
       "</table>\n",
       "</div>"
      ],
      "text/plain": [
       "   Unnamed: 0  gender  dbirwt\n",
       "0           1    male    2551\n",
       "1           2    male    2778\n",
       "2           3  female    2976\n",
       "3           4  female    3345\n",
       "4           5  female    3175"
      ]
     },
     "execution_count": 4,
     "metadata": {},
     "output_type": "execute_result"
    }
   ],
   "source": [
    "# birth weight data\n",
    "bwt = pd.read_csv('../data/BirthWeights.csv', nrows=500)\n",
    "\n",
    "bwt.head()"
   ]
  },
  {
   "cell_type": "code",
   "execution_count": 25,
   "metadata": {},
   "outputs": [
    {
     "data": {
      "text/plain": [
       "(500, 3)"
      ]
     },
     "execution_count": 25,
     "metadata": {},
     "output_type": "execute_result"
    }
   ],
   "source": [
    "bwt.shape"
   ]
  },
  {
   "cell_type": "code",
   "execution_count": 5,
   "metadata": {},
   "outputs": [
    {
     "name": "stdout",
     "output_type": "stream",
     "text": [
      "gender\n",
      "female    3452.487705\n",
      "male      3474.714844\n",
      "Name: dbirwt, dtype: float64\n"
     ]
    }
   ],
   "source": [
    "grouped = bwt[\"dbirwt\"].groupby(bwt[\"gender\"])\n",
    "print(grouped.mean())"
   ]
  },
  {
   "cell_type": "markdown",
   "metadata": {},
   "source": [
    "### A two-sample bootstrap hypothesis test for difference of means\n",
    "\n",
    "A one sample test compares a data set to one fixed number !\n",
    "\n",
    "We now want to compare two sets of data, both of which are samples! In particular test the hypothesis that male and female babies have the same biological weight (but not necessarily the same distribution). \n",
    "\n",
    "$H_0: \\mu_m = \\mu_f, H_A: \\mu_m \\neq \\mu_f$\n",
    "\n",
    "To do the two-sample bootstrap test, we shift both arrays to have the same mean, since we are simulating the hypothesis that their means are, in fact, equal. We then draw bootstrap samples out of the shifted arrays and compute the difference in means. This constitutes a bootstrap replicate, and we generate many of them. The p-value is the fraction of replicates with a difference in means greater than or equal to what was observed."
   ]
  },
  {
   "cell_type": "code",
   "execution_count": 6,
   "metadata": {},
   "outputs": [
    {
     "name": "stdout",
     "output_type": "stream",
     "text": [
      "p-value = 0.3734\n"
     ]
    }
   ],
   "source": [
    "# Compute mean of all weights\n",
    "mean_weight = np.mean(bwt[\"dbirwt\"])\n",
    "w_m = bwt[bwt[\"gender\"]==\"male\"].dbirwt\n",
    "w_f = bwt[bwt[\"gender\"]==\"female\"].dbirwt\n",
    "empirical_diff_means = np.mean(w_m)-np.mean(w_f)\n",
    "\n",
    "# Generate shifted arrays\n",
    "weight_m_underNull = w_m - np.mean(w_m) + mean_weight\n",
    "weight_f_underNull = w_f - np.mean(w_f) + mean_weight\n",
    "\n",
    "# Compute 10,000 bootstrap replicates from shifted arrays\n",
    "bs_replicates_m = draw_bs_reps(weight_m_underNull, np.mean, size=10000)\n",
    "bs_replicates_f = draw_bs_reps(weight_f_underNull, np.mean, size=10000)\n",
    "\n",
    "# Get replicates of difference of means: bs_replicates\n",
    "bs_replicates = bs_replicates_m - bs_replicates_f\n",
    "\n",
    "# Compute and print p-value: p\n",
    "p = np.sum(bs_replicates >= empirical_diff_means) / len(bs_replicates)\n",
    "print('p-value =', p)\n"
   ]
  },
  {
   "attachments": {
    "grafik.png": {
     "image/png": "[encoded data removed]"
    }
   },
   "cell_type": "markdown",
   "metadata": {},
   "source": [
    "### Permutation 2-sample test\n",
    "\n",
    "Another way to compare 2 distributions is much more straightforward than the bootstrap.\n",
    "\n",
    "![grafik.png](attachment:grafik.png)\n",
    "\n",
    "Let us first investigate the Titanic data:"
   ]
  },
  {
   "cell_type": "code",
   "execution_count": null,
   "metadata": {},
   "outputs": [],
   "source": [
    "titanic = sns.load_dataset('titanic')\n",
    "titanic.head()"
   ]
  },
  {
   "cell_type": "code",
   "execution_count": null,
   "metadata": {},
   "outputs": [],
   "source": [
    "PclassSurv = titanic.groupby(['pclass', 'survived'])\n",
    "PclassSurv.size()"
   ]
  },
  {
   "cell_type": "code",
   "execution_count": null,
   "metadata": {},
   "outputs": [],
   "source": [
    "pd.crosstab(titanic.pclass, titanic.survived,margins=True)"
   ]
  },
  {
   "cell_type": "code",
   "execution_count": null,
   "metadata": {},
   "outputs": [],
   "source": [
    "WomenOnly = titanic[titanic[\"sex\"]==\"female\"]\n",
    "pd.crosstab(WomenOnly.pclass, WomenOnly.survived,margins=True)"
   ]
  },
  {
   "cell_type": "markdown",
   "metadata": {},
   "source": [
    "Test the claim that the survival chances of women in 1st and 2nd class were pretty much the same.\n",
    "\n",
    "1. Write down the Null hypothesis and test statistic\n",
    "2. Write code that generates permutation samples from two data sets\n",
    "3. Generate many **permutation replicates**"
   ]
  },
  {
   "cell_type": "code",
   "execution_count": null,
   "metadata": {},
   "outputs": [],
   "source": [
    "def permutation_sample(data1, data2):\n",
    "    \"\"\"Generate a permutation sample from two data sets.\"\"\"\n",
    "\n",
    "    # Concatenate the data sets: data\n",
    "    data = np.concatenate((data1, data2))\n",
    "\n",
    "    # Permute the concatenated array: permuted_data\n",
    "    permuted_data = np.random.permutation(data)\n",
    "\n",
    "    # Split the permuted array into two: perm_sample_1, perm_sample_2\n",
    "    perm_sample_1 = permuted_data[:len(data1)]\n",
    "    perm_sample_2 = permuted_data[len(data1):]\n",
    "\n",
    "    return perm_sample_1, perm_sample_2"
   ]
  }
 ],
 "metadata": {
  "kernelspec": {
   "display_name": "Python 3",
   "language": "python",
   "name": "python3"
  },
  "language_info": {
   "codemirror_mode": {
    "name": "ipython",
    "version": 3
   },
   "file_extension": ".py",
   "mimetype": "text/x-python",
   "name": "python",
   "nbconvert_exporter": "python",
   "pygments_lexer": "ipython3",
   "version": "3.6.4"
  }
 },
 "nbformat": 4,
 "nbformat_minor": 2
}
